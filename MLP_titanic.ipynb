{
 "cells": [
  {
   "cell_type": "code",
   "execution_count": 108,
   "metadata": {},
   "outputs": [],
   "source": [
    "import numpy as np\n",
    "import pandas as pd\n",
    "import os"
   ]
  },
  {
   "cell_type": "markdown",
   "metadata": {},
   "source": [
    "## MLP engine"
   ]
  },
  {
   "cell_type": "code",
   "execution_count": 109,
   "metadata": {},
   "outputs": [],
   "source": [
    "class MLP():\n",
    "    def __init__(self, listOfLayer, activationFunction = \"ReLU\"):\n",
    "        self.numLayers = len(listOfLayer)\n",
    "        self.layers = [{} for i in range(self.numLayers)]\n",
    "        self.activationFunction = activationFunction\n",
    "        \n",
    "        for i in range(1, self.numLayers):\n",
    "            self.layers[i][\"W\"] = np.random.randn(listOfLayer[i], listOfLayer[i-1])  # weight (random)\n",
    "            self.layers[i][\"b\"] = np.random.randn(listOfLayer[i], 1)  # bias (random)\n",
    "            \n",
    "        self.lossList = []  # loss value trace\n",
    "        return\n",
    "    \n",
    "    def activation(self, z, actType=\"sigmoid\"):\n",
    "        if actType == \"sigmoid\":\n",
    "            a = 1.0 / (1.0 + np.exp(-z))\n",
    "        elif actType == \"ReLU\":\n",
    "            a = np.where(z < 0.0, 0.0, z)  \n",
    "            \n",
    "        return a\n",
    "    \n",
    "    def inverseActivation(self, a, actType=\"sigmoid\"):\n",
    "        if actType == \"sigmoid\":\n",
    "            dzda = a * (1.0 - a)\n",
    "        elif actType == \"ReLU\":\n",
    "            dzda = np.where(a > 0, 1.0, a)\n",
    "            \n",
    "        return dzda\n",
    "    \n",
    "    def forward(self, x, bs):\n",
    "        self.layers[0][\"a\"] = np.copy(x)\n",
    "        \n",
    "        #Linear equation\n",
    "        for i in range(1, self.numLayers):\n",
    "            self.layers[i][\"z\"] = self.layers[i][\"W\"].dot(self.layers[i-1][\"a\"]) + self.layers[i][\"b\"]\n",
    "            actType = \"sigmoid\" if i == self.numLayers - 1 else self.activationFunction\n",
    "            self.layers[i][\"a\"] = self.activation(self.layers[i][\"z\"], actType)\n",
    "            \n",
    "        # last layer L does not use activation function    \n",
    "        self.p = self.softmax(self.layers[-1][\"a\"])\n",
    "        self.yHat = np.zeros(self.p.shape, dtype=int)  # predicted answers\n",
    "        for j, i in enumerate(self.p.argmax(axis=0)):\n",
    "            self.yHat[i, j] = 1\n",
    "        return\n",
    "    \n",
    "    def softmax(self, a):\n",
    "        expa = np.exp(a)\n",
    "        return (expa / np.sum(expa, axis=0))\n",
    "    \n",
    "    def loss(self, y):\n",
    "        return np.mean(- np.log(self.p) * y)\n",
    "    \n",
    "    def backprop(self, y, bs):\n",
    "        # Derivative of loss function\n",
    "        self.dJdp = - y / self.p\n",
    "        \n",
    "        # Derivative of softmax\n",
    "        dpda = np.zeros((self.p.shape[0], self.p.shape[0], bs)) # a and p are of same dimension\n",
    "        for b in range(bs):\n",
    "            for i in range(dpda.shape[0]):\n",
    "                for j in range(dpda.shape[1]):\n",
    "                    dpda[i, j, b] = (self.p[i, b] - self.p[i, b] ** 2) if i == j else - self.p[i, b] * self.p[j, b]\n",
    "        \n",
    "        self.layers[-1][\"dJda\"] = np.zeros(self.layers[-1][\"a\"].shape)\n",
    "        for b in range(bs):\n",
    "            self.layers[-1][\"dJda\"][:, b] = dpda[:, :, b].dot(self.dJdp[:, b])\n",
    "          \n",
    "        for i in range(self.numLayers - 1, 0, -1):\n",
    "            actType = \"sigmoid\" if i == self.numLayers - 1 else self.activationFunction\n",
    "            self.layers[i][\"dJdz\"] = self.inverseActivation(self.layers[i][\"a\"], actType) * self.layers[i][\"dJda\"]\n",
    "            self.layers[i][\"dJdb\"] = np.mean(self.layers[i][\"dJdz\"], axis = 1).reshape(self.layers[i][\"b\"].shape)\n",
    "            self.layers[i][\"dJdW\"] = self.layers[i][\"dJdz\"].dot(self.layers[i-1][\"a\"].T) / bs\n",
    "            self.layers[i-1][\"dJda\"] = self.layers[i][\"W\"].T.dot(self.layers[i][\"dJdz\"])\n",
    "        return\n",
    "    \n",
    "    def update(self, lr):\n",
    "        # lr: learning rate\n",
    "        for i in range(1, self.numLayers):\n",
    "            self.layers[i][\"W\"] -= lr * self.layers[i][\"dJdW\"]\n",
    "            self.layers[i][\"b\"] -= lr * self.layers[i][\"dJdb\"]\n",
    "        return\n",
    "    \n",
    "    def shuffle(self, a, b):\n",
    "        shuffled_a = np.copy(a)\n",
    "        shuffled_b = np.copy(b)\n",
    "        permutation = np.random.permutation(a.shape[1])\n",
    "        for oldindex, newindex in enumerate(permutation):\n",
    "            shuffled_a[:, oldindex] = a[:, newindex]\n",
    "            shuffled_b[:, oldindex] = b[:, newindex]\n",
    "        return shuffled_a, shuffled_b\n",
    "        \n",
    "    def train(self, trainX, trainY, numEpoch=1, lr=0.01, bs=2):  \n",
    "        for e in range(numEpoch):\n",
    "            shuffled_trainX, shuffled_trainY = self.shuffle(trainX, trainY)\n",
    "            for i in range(trainX.shape[1] // bs):\n",
    "                x = shuffled_trainX[:, i*bs : (i+1)*bs]\n",
    "                y = shuffled_trainY[:, i*bs : (i+1)*bs]\n",
    "                self.forward(x, bs)\n",
    "                self.lossList.append(self.loss(y))\n",
    "                self.backprop(y, bs)\n",
    "                self.update(lr)\n",
    "                \n",
    "        self.finalX = shuffled_trainX\n",
    "        self.finalY = shuffled_trainY\n",
    "        return      "
   ]
  },
  {
   "attachments": {},
   "cell_type": "markdown",
   "metadata": {},
   "source": [
    "## Data preprocessing"
   ]
  },
  {
   "cell_type": "code",
   "execution_count": 110,
   "metadata": {},
   "outputs": [],
   "source": [
    "import pandas as pd\n",
    "training = pd.read_csv(\"titanic/train.csv\");"
   ]
  },
  {
   "cell_type": "code",
   "execution_count": 111,
   "metadata": {},
   "outputs": [
    {
     "data": {
      "text/html": [
       "<div>\n",
       "<style scoped>\n",
       "    .dataframe tbody tr th:only-of-type {\n",
       "        vertical-align: middle;\n",
       "    }\n",
       "\n",
       "    .dataframe tbody tr th {\n",
       "        vertical-align: top;\n",
       "    }\n",
       "\n",
       "    .dataframe thead th {\n",
       "        text-align: right;\n",
       "    }\n",
       "</style>\n",
       "<table border=\"1\" class=\"dataframe\">\n",
       "  <thead>\n",
       "    <tr style=\"text-align: right;\">\n",
       "      <th></th>\n",
       "      <th>PassengerId</th>\n",
       "      <th>Survived</th>\n",
       "      <th>Pclass</th>\n",
       "      <th>Name</th>\n",
       "      <th>Sex</th>\n",
       "      <th>Age</th>\n",
       "      <th>SibSp</th>\n",
       "      <th>Parch</th>\n",
       "      <th>Ticket</th>\n",
       "      <th>Fare</th>\n",
       "      <th>Cabin</th>\n",
       "      <th>Embarked</th>\n",
       "    </tr>\n",
       "  </thead>\n",
       "  <tbody>\n",
       "    <tr>\n",
       "      <th>0</th>\n",
       "      <td>1</td>\n",
       "      <td>0</td>\n",
       "      <td>3</td>\n",
       "      <td>Braund, Mr. Owen Harris</td>\n",
       "      <td>male</td>\n",
       "      <td>22.0</td>\n",
       "      <td>1</td>\n",
       "      <td>0</td>\n",
       "      <td>A/5 21171</td>\n",
       "      <td>7.2500</td>\n",
       "      <td>NaN</td>\n",
       "      <td>S</td>\n",
       "    </tr>\n",
       "    <tr>\n",
       "      <th>1</th>\n",
       "      <td>2</td>\n",
       "      <td>1</td>\n",
       "      <td>1</td>\n",
       "      <td>Cumings, Mrs. John Bradley (Florence Briggs Th...</td>\n",
       "      <td>female</td>\n",
       "      <td>38.0</td>\n",
       "      <td>1</td>\n",
       "      <td>0</td>\n",
       "      <td>PC 17599</td>\n",
       "      <td>71.2833</td>\n",
       "      <td>C85</td>\n",
       "      <td>C</td>\n",
       "    </tr>\n",
       "    <tr>\n",
       "      <th>2</th>\n",
       "      <td>3</td>\n",
       "      <td>1</td>\n",
       "      <td>3</td>\n",
       "      <td>Heikkinen, Miss. Laina</td>\n",
       "      <td>female</td>\n",
       "      <td>26.0</td>\n",
       "      <td>0</td>\n",
       "      <td>0</td>\n",
       "      <td>STON/O2. 3101282</td>\n",
       "      <td>7.9250</td>\n",
       "      <td>NaN</td>\n",
       "      <td>S</td>\n",
       "    </tr>\n",
       "    <tr>\n",
       "      <th>3</th>\n",
       "      <td>4</td>\n",
       "      <td>1</td>\n",
       "      <td>1</td>\n",
       "      <td>Futrelle, Mrs. Jacques Heath (Lily May Peel)</td>\n",
       "      <td>female</td>\n",
       "      <td>35.0</td>\n",
       "      <td>1</td>\n",
       "      <td>0</td>\n",
       "      <td>113803</td>\n",
       "      <td>53.1000</td>\n",
       "      <td>C123</td>\n",
       "      <td>S</td>\n",
       "    </tr>\n",
       "    <tr>\n",
       "      <th>4</th>\n",
       "      <td>5</td>\n",
       "      <td>0</td>\n",
       "      <td>3</td>\n",
       "      <td>Allen, Mr. William Henry</td>\n",
       "      <td>male</td>\n",
       "      <td>35.0</td>\n",
       "      <td>0</td>\n",
       "      <td>0</td>\n",
       "      <td>373450</td>\n",
       "      <td>8.0500</td>\n",
       "      <td>NaN</td>\n",
       "      <td>S</td>\n",
       "    </tr>\n",
       "  </tbody>\n",
       "</table>\n",
       "</div>"
      ],
      "text/plain": [
       "   PassengerId  Survived  Pclass  \\\n",
       "0            1         0       3   \n",
       "1            2         1       1   \n",
       "2            3         1       3   \n",
       "3            4         1       1   \n",
       "4            5         0       3   \n",
       "\n",
       "                                                Name     Sex   Age  SibSp  \\\n",
       "0                            Braund, Mr. Owen Harris    male  22.0      1   \n",
       "1  Cumings, Mrs. John Bradley (Florence Briggs Th...  female  38.0      1   \n",
       "2                             Heikkinen, Miss. Laina  female  26.0      0   \n",
       "3       Futrelle, Mrs. Jacques Heath (Lily May Peel)  female  35.0      1   \n",
       "4                           Allen, Mr. William Henry    male  35.0      0   \n",
       "\n",
       "   Parch            Ticket     Fare Cabin Embarked  \n",
       "0      0         A/5 21171   7.2500   NaN        S  \n",
       "1      0          PC 17599  71.2833   C85        C  \n",
       "2      0  STON/O2. 3101282   7.9250   NaN        S  \n",
       "3      0            113803  53.1000  C123        S  \n",
       "4      0            373450   8.0500   NaN        S  "
      ]
     },
     "execution_count": 111,
     "metadata": {},
     "output_type": "execute_result"
    }
   ],
   "source": [
    "training.head()"
   ]
  },
  {
   "cell_type": "code",
   "execution_count": 112,
   "metadata": {},
   "outputs": [
    {
     "data": {
      "text/plain": [
       "PassengerId      0\n",
       "Survived         0\n",
       "Pclass           0\n",
       "Name             0\n",
       "Sex              0\n",
       "Age            177\n",
       "SibSp            0\n",
       "Parch            0\n",
       "Ticket           0\n",
       "Fare             0\n",
       "Cabin          687\n",
       "Embarked         2\n",
       "dtype: int64"
      ]
     },
     "execution_count": 112,
     "metadata": {},
     "output_type": "execute_result"
    }
   ],
   "source": [
    "training.isna().sum()"
   ]
  },
  {
   "cell_type": "code",
   "execution_count": 113,
   "metadata": {},
   "outputs": [
    {
     "name": "stdout",
     "output_type": "stream",
     "text": [
      "(712, 10)\n"
     ]
    }
   ],
   "source": [
    "np.random.seed(0)\n",
    "\n",
    "training.drop([\"Name\", \"PassengerId\", \"Ticket\", \"Cabin\"], inplace=True, axis=1)\n",
    "training.dropna(inplace = True)\n",
    "x_train = training\n",
    "rep_sex = {\"male\":0, \"female\":1}\n",
    "rep_embarked = {\"C\":0, \"Q\":1, 'S':2}\n",
    "\n",
    "x_train['Family'] = x_train ['SibSp'] + x_train['Parch']\n",
    "x_train['IsAlone'] = 1\n",
    "x_train['IsAlone'].loc[x_train['Family'] > 0] = 0\n",
    "    \n",
    "x_train.replace({\"Sex\": rep_sex, \"Embarked\": rep_embarked} , inplace = True )\n",
    "\n",
    "print( x_train.shape )"
   ]
  },
  {
   "cell_type": "code",
   "execution_count": 114,
   "metadata": {},
   "outputs": [],
   "source": [
    "y = list(x_train.Survived)  # answer"
   ]
  },
  {
   "cell_type": "code",
   "execution_count": 115,
   "metadata": {},
   "outputs": [],
   "source": [
    "training.drop([\"Survived\"], inplace=True, axis=1)"
   ]
  },
  {
   "cell_type": "code",
   "execution_count": 116,
   "metadata": {},
   "outputs": [],
   "source": [
    "x_train[['Fare']] = x_train[['Fare']].round()\n",
    "\n",
    "for col in x_train.columns[:]:\n",
    "    x_train[col] = x_train[col] / x_train[col].max()"
   ]
  },
  {
   "cell_type": "code",
   "execution_count": 117,
   "metadata": {},
   "outputs": [
    {
     "data": {
      "text/html": [
       "<div>\n",
       "<style scoped>\n",
       "    .dataframe tbody tr th:only-of-type {\n",
       "        vertical-align: middle;\n",
       "    }\n",
       "\n",
       "    .dataframe tbody tr th {\n",
       "        vertical-align: top;\n",
       "    }\n",
       "\n",
       "    .dataframe thead th {\n",
       "        text-align: right;\n",
       "    }\n",
       "</style>\n",
       "<table border=\"1\" class=\"dataframe\">\n",
       "  <thead>\n",
       "    <tr style=\"text-align: right;\">\n",
       "      <th></th>\n",
       "      <th>Pclass</th>\n",
       "      <th>Sex</th>\n",
       "      <th>Age</th>\n",
       "      <th>SibSp</th>\n",
       "      <th>Parch</th>\n",
       "      <th>Fare</th>\n",
       "      <th>Embarked</th>\n",
       "      <th>Family</th>\n",
       "      <th>IsAlone</th>\n",
       "    </tr>\n",
       "  </thead>\n",
       "  <tbody>\n",
       "    <tr>\n",
       "      <th>0</th>\n",
       "      <td>1.000000</td>\n",
       "      <td>0.0</td>\n",
       "      <td>0.2750</td>\n",
       "      <td>0.2</td>\n",
       "      <td>0.0</td>\n",
       "      <td>0.013672</td>\n",
       "      <td>1.0</td>\n",
       "      <td>0.142857</td>\n",
       "      <td>0.0</td>\n",
       "    </tr>\n",
       "    <tr>\n",
       "      <th>1</th>\n",
       "      <td>0.333333</td>\n",
       "      <td>1.0</td>\n",
       "      <td>0.4750</td>\n",
       "      <td>0.2</td>\n",
       "      <td>0.0</td>\n",
       "      <td>0.138672</td>\n",
       "      <td>0.0</td>\n",
       "      <td>0.142857</td>\n",
       "      <td>0.0</td>\n",
       "    </tr>\n",
       "    <tr>\n",
       "      <th>2</th>\n",
       "      <td>1.000000</td>\n",
       "      <td>1.0</td>\n",
       "      <td>0.3250</td>\n",
       "      <td>0.0</td>\n",
       "      <td>0.0</td>\n",
       "      <td>0.015625</td>\n",
       "      <td>1.0</td>\n",
       "      <td>0.000000</td>\n",
       "      <td>1.0</td>\n",
       "    </tr>\n",
       "    <tr>\n",
       "      <th>3</th>\n",
       "      <td>0.333333</td>\n",
       "      <td>1.0</td>\n",
       "      <td>0.4375</td>\n",
       "      <td>0.2</td>\n",
       "      <td>0.0</td>\n",
       "      <td>0.103516</td>\n",
       "      <td>1.0</td>\n",
       "      <td>0.142857</td>\n",
       "      <td>0.0</td>\n",
       "    </tr>\n",
       "    <tr>\n",
       "      <th>4</th>\n",
       "      <td>1.000000</td>\n",
       "      <td>0.0</td>\n",
       "      <td>0.4375</td>\n",
       "      <td>0.0</td>\n",
       "      <td>0.0</td>\n",
       "      <td>0.015625</td>\n",
       "      <td>1.0</td>\n",
       "      <td>0.000000</td>\n",
       "      <td>1.0</td>\n",
       "    </tr>\n",
       "  </tbody>\n",
       "</table>\n",
       "</div>"
      ],
      "text/plain": [
       "     Pclass  Sex     Age  SibSp  Parch      Fare  Embarked    Family  IsAlone\n",
       "0  1.000000  0.0  0.2750    0.2    0.0  0.013672       1.0  0.142857      0.0\n",
       "1  0.333333  1.0  0.4750    0.2    0.0  0.138672       0.0  0.142857      0.0\n",
       "2  1.000000  1.0  0.3250    0.0    0.0  0.015625       1.0  0.000000      1.0\n",
       "3  0.333333  1.0  0.4375    0.2    0.0  0.103516       1.0  0.142857      0.0\n",
       "4  1.000000  0.0  0.4375    0.0    0.0  0.015625       1.0  0.000000      1.0"
      ]
     },
     "execution_count": 117,
     "metadata": {},
     "output_type": "execute_result"
    }
   ],
   "source": [
    "x_train.head()"
   ]
  },
  {
   "cell_type": "code",
   "execution_count": 118,
   "metadata": {},
   "outputs": [
    {
     "data": {
      "text/plain": [
       "array([[1.  , 0.  , 0.28, ..., 1.  , 0.14, 0.  ],\n",
       "       [0.33, 1.  , 0.47, ..., 0.  , 0.14, 0.  ],\n",
       "       [1.  , 1.  , 0.33, ..., 1.  , 0.  , 1.  ],\n",
       "       ...,\n",
       "       [0.33, 1.  , 0.24, ..., 1.  , 0.  , 1.  ],\n",
       "       [0.33, 0.  , 0.33, ..., 0.  , 0.  , 1.  ],\n",
       "       [1.  , 0.  , 0.4 , ..., 0.5 , 0.  , 1.  ]])"
      ]
     },
     "execution_count": 118,
     "metadata": {},
     "output_type": "execute_result"
    }
   ],
   "source": [
    "x_train.values"
   ]
  },
  {
   "attachments": {},
   "cell_type": "markdown",
   "metadata": {},
   "source": [
    "## Training an neural network (NN)"
   ]
  },
  {
   "cell_type": "code",
   "execution_count": 119,
   "metadata": {},
   "outputs": [],
   "source": [
    "input_x_train = np.array(x_train.values).T\n",
    "input_y_train = np.zeros((2, len(y)), dtype=int)\n",
    "for i in range(len(y)):\n",
    "    input_y_train[y[i], i] = 1"
   ]
  },
  {
   "cell_type": "code",
   "execution_count": 120,
   "metadata": {},
   "outputs": [],
   "source": [
    "nnTitanic = MLP([9, 23, 2], activationFunction = \"sigmoid\")\n",
    "nnTitanic.train(input_x_train, input_y_train, numEpoch=7000, lr=0.25, bs=3)"
   ]
  },
  {
   "cell_type": "code",
   "execution_count": 121,
   "metadata": {},
   "outputs": [],
   "source": [
    "nnTitanic.forward(input_x_train, 712)\n",
    "predicted = nnTitanic.yHat.argmax(axis=0)"
   ]
  },
  {
   "cell_type": "markdown",
   "metadata": {},
   "source": [
    "### Training Accuracy:"
   ]
  },
  {
   "cell_type": "code",
   "execution_count": 122,
   "metadata": {},
   "outputs": [
    {
     "name": "stdout",
     "output_type": "stream",
     "text": [
      "Training Accuracy= 0.8595505617977528\n"
     ]
    }
   ],
   "source": [
    "y_ = np.array(y)\n",
    "print(\"Training Accuracy=\", np.sum(y_ == predicted) / y_.shape[0])"
   ]
  },
  {
   "cell_type": "markdown",
   "metadata": {},
   "source": [
    "## Testing data"
   ]
  },
  {
   "cell_type": "code",
   "execution_count": 146,
   "metadata": {},
   "outputs": [
    {
     "data": {
      "text/html": [
       "<div>\n",
       "<style scoped>\n",
       "    .dataframe tbody tr th:only-of-type {\n",
       "        vertical-align: middle;\n",
       "    }\n",
       "\n",
       "    .dataframe tbody tr th {\n",
       "        vertical-align: top;\n",
       "    }\n",
       "\n",
       "    .dataframe thead th {\n",
       "        text-align: right;\n",
       "    }\n",
       "</style>\n",
       "<table border=\"1\" class=\"dataframe\">\n",
       "  <thead>\n",
       "    <tr style=\"text-align: right;\">\n",
       "      <th></th>\n",
       "      <th>PassengerId</th>\n",
       "      <th>Pclass</th>\n",
       "      <th>Name</th>\n",
       "      <th>Sex</th>\n",
       "      <th>Age</th>\n",
       "      <th>SibSp</th>\n",
       "      <th>Parch</th>\n",
       "      <th>Ticket</th>\n",
       "      <th>Fare</th>\n",
       "      <th>Cabin</th>\n",
       "      <th>Embarked</th>\n",
       "      <th>PassengerId</th>\n",
       "      <th>Survived</th>\n",
       "    </tr>\n",
       "  </thead>\n",
       "  <tbody>\n",
       "    <tr>\n",
       "      <th>0</th>\n",
       "      <td>892</td>\n",
       "      <td>3</td>\n",
       "      <td>Kelly, Mr. James</td>\n",
       "      <td>male</td>\n",
       "      <td>34.5</td>\n",
       "      <td>0</td>\n",
       "      <td>0</td>\n",
       "      <td>330911</td>\n",
       "      <td>7.8292</td>\n",
       "      <td>NaN</td>\n",
       "      <td>Q</td>\n",
       "      <td>892</td>\n",
       "      <td>0</td>\n",
       "    </tr>\n",
       "    <tr>\n",
       "      <th>1</th>\n",
       "      <td>893</td>\n",
       "      <td>3</td>\n",
       "      <td>Wilkes, Mrs. James (Ellen Needs)</td>\n",
       "      <td>female</td>\n",
       "      <td>47.0</td>\n",
       "      <td>1</td>\n",
       "      <td>0</td>\n",
       "      <td>363272</td>\n",
       "      <td>7.0000</td>\n",
       "      <td>NaN</td>\n",
       "      <td>S</td>\n",
       "      <td>893</td>\n",
       "      <td>1</td>\n",
       "    </tr>\n",
       "    <tr>\n",
       "      <th>2</th>\n",
       "      <td>894</td>\n",
       "      <td>2</td>\n",
       "      <td>Myles, Mr. Thomas Francis</td>\n",
       "      <td>male</td>\n",
       "      <td>62.0</td>\n",
       "      <td>0</td>\n",
       "      <td>0</td>\n",
       "      <td>240276</td>\n",
       "      <td>9.6875</td>\n",
       "      <td>NaN</td>\n",
       "      <td>Q</td>\n",
       "      <td>894</td>\n",
       "      <td>0</td>\n",
       "    </tr>\n",
       "    <tr>\n",
       "      <th>3</th>\n",
       "      <td>895</td>\n",
       "      <td>3</td>\n",
       "      <td>Wirz, Mr. Albert</td>\n",
       "      <td>male</td>\n",
       "      <td>27.0</td>\n",
       "      <td>0</td>\n",
       "      <td>0</td>\n",
       "      <td>315154</td>\n",
       "      <td>8.6625</td>\n",
       "      <td>NaN</td>\n",
       "      <td>S</td>\n",
       "      <td>895</td>\n",
       "      <td>0</td>\n",
       "    </tr>\n",
       "    <tr>\n",
       "      <th>4</th>\n",
       "      <td>896</td>\n",
       "      <td>3</td>\n",
       "      <td>Hirvonen, Mrs. Alexander (Helga E Lindqvist)</td>\n",
       "      <td>female</td>\n",
       "      <td>22.0</td>\n",
       "      <td>1</td>\n",
       "      <td>1</td>\n",
       "      <td>3101298</td>\n",
       "      <td>12.2875</td>\n",
       "      <td>NaN</td>\n",
       "      <td>S</td>\n",
       "      <td>896</td>\n",
       "      <td>1</td>\n",
       "    </tr>\n",
       "  </tbody>\n",
       "</table>\n",
       "</div>"
      ],
      "text/plain": [
       "   PassengerId  Pclass                                          Name     Sex  \\\n",
       "0          892       3                              Kelly, Mr. James    male   \n",
       "1          893       3              Wilkes, Mrs. James (Ellen Needs)  female   \n",
       "2          894       2                     Myles, Mr. Thomas Francis    male   \n",
       "3          895       3                              Wirz, Mr. Albert    male   \n",
       "4          896       3  Hirvonen, Mrs. Alexander (Helga E Lindqvist)  female   \n",
       "\n",
       "    Age  SibSp  Parch   Ticket     Fare Cabin Embarked  PassengerId  Survived  \n",
       "0  34.5      0      0   330911   7.8292   NaN        Q          892         0  \n",
       "1  47.0      1      0   363272   7.0000   NaN        S          893         1  \n",
       "2  62.0      0      0   240276   9.6875   NaN        Q          894         0  \n",
       "3  27.0      0      0   315154   8.6625   NaN        S          895         0  \n",
       "4  22.0      1      1  3101298  12.2875   NaN        S          896         1  "
      ]
     },
     "execution_count": 146,
     "metadata": {},
     "output_type": "execute_result"
    }
   ],
   "source": [
    "# testing\n",
    "testing = pd.read_csv(\"titanic/test.csv\");\n",
    "answer = pd.read_csv(\"titanic/gender_submission.csv\")\n",
    "\n",
    "testing = pd.concat([testing, answer], axis=1)\n",
    "testing.head()"
   ]
  },
  {
   "cell_type": "code",
   "execution_count": 147,
   "metadata": {},
   "outputs": [
    {
     "name": "stdout",
     "output_type": "stream",
     "text": [
      "(331, 10)\n"
     ]
    }
   ],
   "source": [
    "np.random.seed(0)\n",
    "testing.drop([ \"Name\" , \"PassengerId\", \"Ticket\", \"Cabin\"], inplace = True, axis = 1 )\n",
    "testing.dropna( inplace = True)\n",
    "x_test = testing\n",
    "repCol3 = {  \"male\":0, \"female\" : 1}\n",
    "repCol8 = {\"C\" : 0 ,   \"Q\" : 1 , 'S' : 2  }\n",
    "\n",
    "x_test['Family'] = x_test ['SibSp'] + x_test['Parch']\n",
    "x_test['IsAlone'] = 1\n",
    "x_test['IsAlone'].loc[x_test['Family'] > 0] = 0\n",
    "    \n",
    "x_test.replace({\"Sex\":repCol3, \"Embarked\":repCol8}, inplace = True)\n",
    "\n",
    "print( x_test.shape )"
   ]
  },
  {
   "cell_type": "code",
   "execution_count": 148,
   "metadata": {},
   "outputs": [],
   "source": [
    "y_test = list(testing.Survived)\n",
    "y_test = np.array(y_test)\n",
    "\n",
    "testing.drop([\"Survived\"], inplace = True, axis = 1 )"
   ]
  },
  {
   "cell_type": "code",
   "execution_count": 149,
   "metadata": {},
   "outputs": [],
   "source": [
    "x_test[['Fare']] = x_test[['Fare']].round()\n",
    "\n",
    "for col in x_test.columns:\n",
    "    x_test[col] = x_test[col]/x_test[col].max()\n",
    "    \n",
    "input_x_test = np.array(x_test.values).T"
   ]
  },
  {
   "cell_type": "code",
   "execution_count": 150,
   "metadata": {},
   "outputs": [],
   "source": [
    "nnTitanic.forward(input_x_test, 331)\n",
    "predicted_test = nnTitanic.yHat.argmax(axis=0)"
   ]
  },
  {
   "cell_type": "markdown",
   "metadata": {},
   "source": [
    "### Testing Accuracy:"
   ]
  },
  {
   "cell_type": "code",
   "execution_count": 151,
   "metadata": {},
   "outputs": [
    {
     "name": "stdout",
     "output_type": "stream",
     "text": [
      "Testing Accuracy= 0.8277945619335347\n"
     ]
    }
   ],
   "source": [
    "print(\"Testing Accuracy=\", np.sum(y_test == predicted_test) / y_test.shape[0])"
   ]
  }
 ],
 "metadata": {
  "kernelspec": {
   "display_name": "Python 3",
   "language": "python",
   "name": "python3"
  },
  "language_info": {
   "codemirror_mode": {
    "name": "ipython",
    "version": 3
   },
   "file_extension": ".py",
   "mimetype": "text/x-python",
   "name": "python",
   "nbconvert_exporter": "python",
   "pygments_lexer": "ipython3",
   "version": "3.6.7"
  }
 },
 "nbformat": 4,
 "nbformat_minor": 2
}
